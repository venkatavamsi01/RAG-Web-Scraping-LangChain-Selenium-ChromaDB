{
 "cells": [
  {
   "cell_type": "code",
   "execution_count": null,
   "metadata": {
    "execution": {
     "iopub.execute_input": "2025-04-10T22:18:58.999138Z",
     "iopub.status.busy": "2025-04-10T22:18:58.998829Z",
     "iopub.status.idle": "2025-04-10T22:22:42.862248Z",
     "shell.execute_reply": "2025-04-10T22:22:42.861381Z",
     "shell.execute_reply.started": "2025-04-10T22:18:58.999111Z"
    },
    "trusted": true
   },
   "outputs": [],
   "source": [
    "!pip install -U --force-reinstall \\\n",
    "  torch torchvision torchaudio \\\n",
    "  transformers \\\n",
    "  sentence-transformers \\\n",
    "  langchain \\\n",
    "  langchain-community \\\n",
    "  chromadb \\\n",
    "  accelerate \\\n",
    "  einops \\\n",
    "  xformers \\\n",
    "  bitsandbytes \\\n",
    "  beautifulsoup4 \\\n",
    "  requests \\\n",
    "  selenium\n"
   ]
  },
  {
   "cell_type": "markdown",
   "metadata": {},
   "source": [
    "**1. Library Imports**\n",
    "This block imports all the necessary libraries and modules. It includes standard Python libraries (like *time* and *requests*), HTML parsing tools (*BeautifulSoup*), Selenium for browser automation, various components from LangChain for building RAG systems, and modules from Hugging Face and PyTorch for model loading and inference."
   ]
  },
  {
   "cell_type": "code",
   "execution_count": 2,
   "metadata": {
    "execution": {
     "iopub.execute_input": "2025-04-10T22:22:42.864275Z",
     "iopub.status.busy": "2025-04-10T22:22:42.864052Z",
     "iopub.status.idle": "2025-04-10T22:22:51.765536Z",
     "shell.execute_reply": "2025-04-10T22:22:51.764731Z",
     "shell.execute_reply.started": "2025-04-10T22:22:42.864253Z"
    },
    "trusted": true
   },
   "outputs": [],
   "source": [
    "import time\n",
    "import requests\n",
    "from bs4 import BeautifulSoup\n",
    "from selenium import webdriver\n",
    "from selenium.webdriver.chrome.options import Options\n",
    "from selenium.webdriver.common.by import By\n",
    "from selenium.webdriver.support.ui import WebDriverWait\n",
    "from selenium.webdriver.support import expected_conditions as EC\n",
    "\n",
    "from langchain.embeddings import HuggingFaceEmbeddings\n",
    "from langchain.text_splitter import RecursiveCharacterTextSplitter\n",
    "from langchain_community.vectorstores import Chroma\n",
    "from langchain.chains import RetrievalQA\n",
    "from langchain.llms import HuggingFacePipeline\n",
    "from langchain.prompts import PromptTemplate\n",
    "\n",
    "import transformers\n",
    "from transformers import AutoTokenizer\n",
    "import torch\n",
    "from torch import cuda, bfloat16"
   ]
  },
  {
   "cell_type": "markdown",
   "metadata": {},
   "source": [
    "**2. Loading the LLM, Tokenizer, and Pipeline**\n",
    "This block sets up the language model by loading the pre-trained LLM from a specified directory. It configures the model with 4-bit quantization for efficiency and prepares the tokenizer and inference pipeline. The *HuggingFacePipeline* wrapper adapts the inference pipeline so that it can be used with LangChain."
   ]
  },
  {
   "cell_type": "code",
   "execution_count": 3,
   "metadata": {
    "execution": {
     "iopub.execute_input": "2025-04-10T22:22:51.766707Z",
     "iopub.status.busy": "2025-04-10T22:22:51.766338Z",
     "iopub.status.idle": "2025-04-10T22:23:50.552950Z",
     "shell.execute_reply": "2025-04-10T22:23:50.552121Z",
     "shell.execute_reply.started": "2025-04-10T22:22:51.766690Z"
    },
    "trusted": true
   },
   "outputs": [
    {
     "name": "stderr",
     "output_type": "stream",
     "text": [
      "2025-04-10 22:22:53.211987: E external/local_xla/xla/stream_executor/cuda/cuda_fft.cc:477] Unable to register cuFFT factory: Attempting to register factory for plugin cuFFT when one has already been registered\n",
      "WARNING: All log messages before absl::InitializeLog() is called are written to STDERR\n",
      "E0000 00:00:1744323773.241322    2052 cuda_dnn.cc:8310] Unable to register cuDNN factory: Attempting to register factory for plugin cuDNN when one has already been registered\n",
      "E0000 00:00:1744323773.250145    2052 cuda_blas.cc:1418] Unable to register cuBLAS factory: Attempting to register factory for plugin cuBLAS when one has already been registered\n"
     ]
    },
    {
     "data": {
      "application/vnd.jupyter.widget-view+json": {
       "model_id": "90e44e0d02324f9dbf716fb0330e2e2b",
       "version_major": 2,
       "version_minor": 0
      },
      "text/plain": [
       "Loading checkpoint shards:   0%|          | 0/4 [00:00<?, ?it/s]"
      ]
     },
     "metadata": {},
     "output_type": "display_data"
    },
    {
     "name": "stderr",
     "output_type": "stream",
     "text": [
      "Device set to use cuda:0\n",
      "/tmp/ipykernel_2052/3913134011.py:27: LangChainDeprecationWarning: The class `HuggingFacePipeline` was deprecated in LangChain 0.0.37 and will be removed in 1.0. An updated version of the class exists in the :class:`~langchain-huggingface package and should be used instead. To use it run `pip install -U :class:`~langchain-huggingface` and import as `from :class:`~langchain_huggingface import HuggingFacePipeline``.\n",
      "  llm = HuggingFacePipeline(pipeline=query_pipeline)\n"
     ]
    }
   ],
   "source": [
    "# Load LLM + tokenizer + pipeline\n",
    "model_id = \"/kaggle/input/llama-3/transformers/8b-chat-hf/1\"\n",
    "device = f'cuda:{cuda.current_device()}' if cuda.is_available() else 'cpu'\n",
    "bnb_config = transformers.BitsAndBytesConfig(\n",
    "    load_in_4bit=True,\n",
    "    bnb_4bit_quant_type='nf4',\n",
    "    bnb_4bit_use_double_quant=True,\n",
    "    bnb_4bit_compute_dtype=bfloat16\n",
    ")\n",
    "\n",
    "model = transformers.AutoModelForCausalLM.from_pretrained(\n",
    "    model_id, \n",
    "    trust_remote_code=True, \n",
    "    quantization_config=bnb_config, \n",
    "    device_map=\"auto\"\n",
    ")\n",
    "tokenizer = AutoTokenizer.from_pretrained(model_id)\n",
    "\n",
    "query_pipeline = transformers.pipeline(\n",
    "    \"text-generation\", \n",
    "    model=model, \n",
    "    tokenizer=tokenizer, \n",
    "    max_new_tokens=256,\n",
    "    torch_dtype=torch.float16, \n",
    "    device_map=\"auto\"\n",
    ")\n",
    "llm = HuggingFacePipeline(pipeline=query_pipeline)"
   ]
  },
  {
   "cell_type": "markdown",
   "metadata": {},
   "source": [
    "**3. Initializing the Embeddings**\n",
    "Here we initialize the sentence transformer embeddings using a Hugging Face model. These embeddings are later used for document vectorization in the RAG (Retrieval-Augmented Generation) chain."
   ]
  },
  {
   "cell_type": "code",
   "execution_count": 4,
   "metadata": {
    "execution": {
     "iopub.execute_input": "2025-04-10T22:23:50.554831Z",
     "iopub.status.busy": "2025-04-10T22:23:50.554065Z",
     "iopub.status.idle": "2025-04-10T22:23:55.846710Z",
     "shell.execute_reply": "2025-04-10T22:23:55.846084Z",
     "shell.execute_reply.started": "2025-04-10T22:23:50.554807Z"
    },
    "trusted": true
   },
   "outputs": [
    {
     "name": "stderr",
     "output_type": "stream",
     "text": [
      "/tmp/ipykernel_2052/3017490661.py:1: LangChainDeprecationWarning: The class `HuggingFaceEmbeddings` was deprecated in LangChain 0.2.2 and will be removed in 1.0. An updated version of the class exists in the :class:`~langchain-huggingface package and should be used instead. To use it run `pip install -U :class:`~langchain-huggingface` and import as `from :class:`~langchain_huggingface import HuggingFaceEmbeddings``.\n",
      "  embeddings = HuggingFaceEmbeddings(\n"
     ]
    }
   ],
   "source": [
    "embeddings = HuggingFaceEmbeddings(\n",
    "    model_name=\"sentence-transformers/all-mpnet-base-v2\",\n",
    "    model_kwargs={\"device\": device}\n",
    ")"
   ]
  },
  {
   "cell_type": "markdown",
   "metadata": {},
   "source": [
    "**4. Prompt Template for Structured Output**\n",
    "This block creates a prompt template that guides the LLM to generate optimized search queries for different websites. The template asks for formatted queries for GameRules.com, WikiHow.com, and Pagat.com(*yet to be implmented*). This structured output helps in later scraping and information retrieval."
   ]
  },
  {
   "cell_type": "code",
   "execution_count": 5,
   "metadata": {
    "execution": {
     "iopub.execute_input": "2025-04-10T22:23:55.847719Z",
     "iopub.status.busy": "2025-04-10T22:23:55.847503Z",
     "iopub.status.idle": "2025-04-10T22:23:55.852621Z",
     "shell.execute_reply": "2025-04-10T22:23:55.851680Z",
     "shell.execute_reply.started": "2025-04-10T22:23:55.847702Z"
    },
    "trusted": true
   },
   "outputs": [],
   "source": [
    "query_prompt_template = \"\"\"\n",
    "You are helping route user queries to the right search format for specific websites.\n",
    "\n",
    "User's original question: \"{user_question}\"\n",
    "\n",
    "Based on this, generate optimized search phrases for these websites:\n",
    "\n",
    "1. GameRules.com → Only works well with short exact game names like \"UNO\", \"Cricket\", \"Monopoly\".\n",
    "2. WikiHow.com → Handles natural queries like \"how to play UNO\", \"rules for chess\", etc.\n",
    "3. Pagat.com → Focuses on formal card game names, like \"UNO card game\", \"Texas Holdem rules\", etc.\n",
    "\n",
    "Return the output in **exactly** this format:\n",
    "GameRules Search: <query>\n",
    "WikiHow Search: <query>\n",
    "Pagat Search: <query>\n",
    "\"\"\"\n",
    "query_prompt = PromptTemplate.from_template(query_prompt_template)\n"
   ]
  },
  {
   "cell_type": "markdown",
   "metadata": {},
   "source": [
    "**5. Custom Query Generation with Retry Handler**\n",
    "This function uses the above prompt template to generate site-specific search queries from the user’s original question. It retries up to a specified number of times if the output is not formatted as expected. The function parses the LLM response and extracts the queries for each website."
   ]
  },
  {
   "cell_type": "code",
   "execution_count": 6,
   "metadata": {
    "execution": {
     "iopub.execute_input": "2025-04-10T22:23:55.855470Z",
     "iopub.status.busy": "2025-04-10T22:23:55.855164Z",
     "iopub.status.idle": "2025-04-10T22:23:55.872814Z",
     "shell.execute_reply": "2025-04-10T22:23:55.872046Z",
     "shell.execute_reply.started": "2025-04-10T22:23:55.855445Z"
    },
    "trusted": true
   },
   "outputs": [],
   "source": [
    "import re\n",
    "\n",
    "def generate_custom_queries(user_query, max_retries=3):\n",
    "    formatted_prompt = query_prompt.format(user_question=user_query)\n",
    "    \n",
    "    for attempt in range(max_retries):\n",
    "        response = llm.invoke(formatted_prompt).strip()\n",
    "        \n",
    "        # Extract text inside triple backticks if present\n",
    "        match = re.search(r\"```(.*?)```\", response, re.DOTALL)\n",
    "        content = match.group(1).strip() if match else response\n",
    "        \n",
    "        lines = [line for line in content.split(\"\\n\") if \":\" in line]\n",
    "        \n",
    "        try:\n",
    "            game = next(line.split(\":\", 1)[1].strip() for line in lines if \"GameRules Search\" in line)\n",
    "            how = next(line.split(\":\", 1)[1].strip() for line in lines if \"WikiHow Search\" in line)\n",
    "            pagat = next(line.split(\":\", 1)[1].strip() for line in lines if \"Pagat Search\" in line)\n",
    "            return game, how, pagat\n",
    "        except Exception:\n",
    "            print(f\"⚠️ Retry {attempt+1}: Failed to parse LLM response:\\n{response}\")\n",
    "    \n",
    "    raise ValueError(\"❌ Could not extract site-specific queries from LLM response after retries.\")\n"
   ]
  },
  {
   "cell_type": "markdown",
   "metadata": {},
   "source": [
    "**6. Web Scraping Functions for GameRules, WikiHow, and Pagat**\n",
    "This section includes several helper functions for scraping game rules from different sources:\n",
    "\n",
    "GameRules.com Functions:\n",
    "*search_game_on_gamerules* locates the URL for the game rules page based on the query, and *fetch_game_rules_gamerules* retrieves the rules content.\n",
    "\n",
    "WikiHow Functions:\n",
    "*get_search_candidates_selenium* uses Selenium to simulate browser behavior and get search result candidates from WikiHow.\n",
    "*choose_best_candidate* selects the best match from the candidates.\n",
    "*fetch_article_content* retrieves the text content from the selected WikiHow article.\n",
    "\n",
    "Pagat.com Fallback Function:\n",
    "*fetch_rules_from_pagat* currently returns a fallback string as an example."
   ]
  },
  {
   "cell_type": "code",
   "execution_count": 7,
   "metadata": {
    "execution": {
     "iopub.execute_input": "2025-04-10T22:23:55.873784Z",
     "iopub.status.busy": "2025-04-10T22:23:55.873552Z",
     "iopub.status.idle": "2025-04-10T22:23:55.885094Z",
     "shell.execute_reply": "2025-04-10T22:23:55.884479Z",
     "shell.execute_reply.started": "2025-04-10T22:23:55.873769Z"
    },
    "trusted": true
   },
   "outputs": [],
   "source": [
    "def search_game_on_gamerules(game_name):\n",
    "    search_url = f\"https://gamerules.com/browse-all-rules/?_search={game_name}\"\n",
    "    headers = {\"User-Agent\": \"Mozilla/5.0\"}\n",
    "    response = requests.get(search_url, headers=headers)\n",
    "    if response.status_code != 200:\n",
    "        return None\n",
    "    soup = BeautifulSoup(response.text, 'html.parser')\n",
    "    results = soup.select(\"div.pt-cv-content-item\")\n",
    "    for item in results:\n",
    "        title_tag = item.select_one(\".pt-cv-title a\")\n",
    "        if title_tag and game_name.upper() in title_tag.text.strip().upper():\n",
    "            return title_tag['href']\n",
    "    return None\n",
    "\n",
    "def fetch_game_rules_gamerules(url):\n",
    "    headers = {\"User-Agent\": \"Mozilla/5.0\"}\n",
    "    response = requests.get(url, headers=headers)\n",
    "    soup = BeautifulSoup(response.text, 'html.parser')\n",
    "    article = soup.find('div', class_='entry-content')\n",
    "    return article.get_text(separator='\\n', strip=True) if article else \"No rules content found.\"\n",
    "\n",
    "def get_search_candidates_selenium(query):\n",
    "    base_url = \"https://www.wikihow.com\"\n",
    "    search_url = f\"{base_url}/wikiHowTo?search={query.replace(' ', '+')}&Search=\"\n",
    "    chrome_options = Options()\n",
    "    chrome_options.add_argument(\"--headless\")\n",
    "    chrome_options.add_argument(\"--disable-gpu\")\n",
    "    chrome_options.add_argument(\"--no-sandbox\")\n",
    "    chrome_options.add_argument(\"--user-data-dir=/tmp/chrome-user-data\")\n",
    "    driver = webdriver.Chrome(options=chrome_options)\n",
    "    try:\n",
    "        driver.get(search_url)\n",
    "        container = WebDriverWait(driver, 10).until(\n",
    "            EC.presence_of_element_located((By.ID, \"searchresults_list\"))\n",
    "        )\n",
    "        container_html = container.get_attribute(\"innerHTML\")\n",
    "    except Exception:\n",
    "        container_html = driver.page_source\n",
    "    finally:\n",
    "        driver.quit()\n",
    "    soup = BeautifulSoup(container_html, \"html.parser\")\n",
    "    candidate_tags = soup.find_all(\"a\", class_=\"result_link\")\n",
    "    candidates = []\n",
    "    for tag in candidate_tags:\n",
    "        href = tag.get(\"href\", \"\")\n",
    "        if not href.startswith(\"http\"):\n",
    "            href = base_url + href\n",
    "        title_div = tag.find(\"div\", class_=\"result_title\")\n",
    "        title = title_div.get_text(separator=\" \", strip=True) if title_div else \"\"\n",
    "        candidates.append({\"title\": title, \"href\": href})\n",
    "    return candidates\n",
    "\n",
    "def choose_best_candidate(candidates, query):\n",
    "    query_words = query.lower().split()\n",
    "    for candidate in candidates:\n",
    "        title = candidate[\"title\"].lower()\n",
    "        if all(word in title for word in query_words):\n",
    "            return candidate\n",
    "    return candidates[0] if candidates else None\n",
    "\n",
    "def fetch_article_content(url):\n",
    "    headers = {\"User-Agent\": \"Mozilla/5.0\"}\n",
    "    response = requests.get(url, headers=headers)\n",
    "    soup = BeautifulSoup(response.text, \"html.parser\")\n",
    "    content_div = soup.find(\"div\", class_=\"entry-content\") or soup.find(\"div\", id=\"bodyContent\")\n",
    "    return content_div.get_text(separator=\"\\n\", strip=True) if content_div else \"Article content not found.\"\n",
    "\n",
    "def fetch_rules_from_pagat(query):\n",
    "    return f\"No fallback rule found on pagat.com for query: {query}\"\n"
   ]
  },
  {
   "cell_type": "markdown",
   "metadata": {},
   "source": [
    "**7. RAG Chain Setup**\n",
    "This block defines the prompt used by the RAG chain and sets up a retrieval-based chain. The prompt instructs the assistant on how to use contextual information to answer the user's query. The helper function *build_rag_chain* splits the provided full text into manageable chunks, constructs a vector database using Chroma, and then creates a retrieval QA chain."
   ]
  },
  {
   "cell_type": "code",
   "execution_count": 8,
   "metadata": {
    "execution": {
     "iopub.execute_input": "2025-04-10T22:23:55.886145Z",
     "iopub.status.busy": "2025-04-10T22:23:55.885893Z",
     "iopub.status.idle": "2025-04-10T22:23:55.903064Z",
     "shell.execute_reply": "2025-04-10T22:23:55.902348Z",
     "shell.execute_reply.started": "2025-04-10T22:23:55.886115Z"
    },
    "trusted": true
   },
   "outputs": [],
   "source": [
    "# ==== RAG Chain Setup ====\n",
    "guided_prompt_template = \"\"\"\n",
    "You are a helpful assistant that provides detailed and structured game rules.\n",
    "\n",
    "Use the following pieces of context to answer the question at the end. If you don't know the answer, just say you don't know — don't make anything up.\n",
    "\n",
    "Context:\n",
    "{context}\n",
    "\n",
    "Question:\n",
    "{question}\n",
    "\n",
    "Answer:\n",
    "\"\"\"\n",
    "prompt = PromptTemplate(template=guided_prompt_template, input_variables=[\"context\", \"question\"])\n",
    "\n",
    "def build_rag_chain(full_text):\n",
    "    splitter = RecursiveCharacterTextSplitter(chunk_size=1000, chunk_overlap=100)\n",
    "    docs = splitter.create_documents([full_text])\n",
    "    vectordb = Chroma.from_documents(docs, embeddings, persist_directory=\"chroma_db\")\n",
    "    retriever = vectordb.as_retriever()\n",
    "    return RetrievalQA.from_chain_type(\n",
    "        llm=llm, retriever=retriever,\n",
    "        chain_type=\"stuff\", chain_type_kwargs={\"prompt\": prompt},\n",
    "        verbose=True\n",
    "    )\n"
   ]
  },
  {
   "cell_type": "markdown",
   "metadata": {},
   "source": [
    "**8. Main Runner Function**\n",
    "This final block ties everything together. The *run_final_rag* function:\n",
    "\n",
    "Generates custom search queries based on the user's question.\n",
    "\n",
    "Searches for game rules on GameRules.com.\n",
    "\n",
    "Uses Selenium to retrieve WikiHow search results and selects the best candidate.\n",
    "\n",
    "Attempts to get fallback rules from Pagat.com.\n",
    "\n",
    "Combines the scraped content and builds the RAG chain.\n",
    "\n",
    "Finally, the RAG chain is used to generate an answer to the original user query."
   ]
  },
  {
   "cell_type": "code",
   "execution_count": 9,
   "metadata": {
    "execution": {
     "iopub.execute_input": "2025-04-10T22:23:55.903964Z",
     "iopub.status.busy": "2025-04-10T22:23:55.903748Z",
     "iopub.status.idle": "2025-04-10T22:24:51.409952Z",
     "shell.execute_reply": "2025-04-10T22:24:51.409207Z",
     "shell.execute_reply.started": "2025-04-10T22:23:55.903942Z"
    },
    "trusted": true
   },
   "outputs": [
    {
     "name": "stderr",
     "output_type": "stream",
     "text": [
      "Setting `pad_token_id` to `eos_token_id`:128001 for open-end generation.\n"
     ]
    },
    {
     "name": "stdout",
     "output_type": "stream",
     "text": [
      "\n",
      "🔎 Search Queries:\n",
      "GameRules → Cricket\n",
      "WikiHow → how to bat in cricket\n",
      "Pagat → cricket card game\n",
      "✅ Found on GameRules\n",
      "✅ Found on WikiHow\n",
      "\n",
      "🔧 Building RAG chain...\n"
     ]
    },
    {
     "name": "stderr",
     "output_type": "stream",
     "text": [
      "/tmp/ipykernel_2052/424052815.py:28: LangChainDeprecationWarning: The method `Chain.run` was deprecated in langchain 0.1.0 and will be removed in 1.0. Use :meth:`~invoke` instead.\n",
      "  response = rag_chain.run(user_question)\n",
      "Setting `pad_token_id` to `eos_token_id`:128001 for open-end generation.\n"
     ]
    },
    {
     "name": "stdout",
     "output_type": "stream",
     "text": [
      "\n",
      "🤖 Answering the original question...\n",
      "\n",
      "\n",
      "\u001b[1m> Entering new RetrievalQA chain...\u001b[0m\n",
      "\n",
      "\u001b[1m> Finished chain.\u001b[0m\n",
      "\n",
      "📜 Final Answer:\n",
      "\n",
      "You are a helpful assistant that provides detailed and structured game rules.\n",
      "\n",
      "Use the following pieces of context to answer the question at the end. If you don't know the answer, just say you don't know — don't make anything up.\n",
      "\n",
      "Context:\n",
      "Move to meet the ball.\n",
      "Watch\n",
      "3\n",
      "Try to hit the ball before it spins.\n",
      "If the bowler is bowling spin, you can advance forward and hit the ball before it spins. You can play a front foot shot for a spin bowler; this gives you the advantage of a full-toss delivery and the chance to face the ball before it bounces and spins.\n",
      "Watch\n",
      "4\n",
      "Swing the bat properly.\n",
      "When the ball is pitched, roll the shoulder facing the bowler down slightly and swing the bat backwards in a straight line. Use your top hand for control as you bring the bat forward to meet the ball.\n",
      "[3]\n",
      "X\n",
      "Research source\n",
      "The back-swing provides the power for the shot; a good swing clears the top of the wicket.\n",
      "Watch\n",
      "5\n",
      "Decide whether to attempt to score a run or continue batting.\n",
      "A successful batsman knows when to try to score and when to remain in position and defend the wicket.  If there is no time to switch places with the non-striker and score a run, stay put and prepare for the next shot.\n",
      "Advertisement\n",
      "Part\n",
      "3\n",
      "Part 3 of 3:\n",
      "\n",
      "Move to meet the ball.\n",
      "Watch\n",
      "3\n",
      "Try to hit the ball before it spins.\n",
      "If the bowler is bowling spin, you can advance forward and hit the ball before it spins. You can play a front foot shot for a spin bowler; this gives you the advantage of a full-toss delivery and the chance to face the ball before it bounces and spins.\n",
      "Watch\n",
      "4\n",
      "Swing the bat properly.\n",
      "When the ball is pitched, roll the shoulder facing the bowler down slightly and swing the bat backwards in a straight line. Use your top hand for control as you bring the bat forward to meet the ball.\n",
      "[3]\n",
      "X\n",
      "Research source\n",
      "The back-swing provides the power for the shot; a good swing clears the top of the wicket.\n",
      "Watch\n",
      "5\n",
      "Decide whether to attempt to score a run or continue batting.\n",
      "A successful batsman knows when to try to score and when to remain in position and defend the wicket.  If there is no time to switch places with the non-striker and score a run, stay put and prepare for the next shot.\n",
      "Advertisement\n",
      "Part\n",
      "3\n",
      "Part 3 of 3:\n",
      "\n",
      "2\n",
      "Assume the proper stance.\n",
      "If you're right-handed, stand sideways in the crease (the \"safe\" area in front of the wicket) with your left shoulder towards the bowler (who \"pitches\" the ball); left-handed batters do the opposite.  Look straight over your shoulder towards the bowler; do not tilt your head.  Spread your feet about 12 inches (30.5 cm) apart and bend your knees slightly with your weight distributed evenly on both legs.  Rest the toe of the bat on the ground behind your feet near the wicket; your top hand will rest on the inside of the thigh nearest the bowler.\n",
      "[2]\n",
      "X\n",
      "Research source\n",
      "Advertisement\n",
      "Part\n",
      "2\n",
      "Part 2 of 3:\n",
      "Taking the Shot\n",
      "Download Article\n",
      "Watch\n",
      "1\n",
      "Shift your weight to your back foot for longer pitches.\n",
      "Shifting your weight away from the bowler enables you to adjust to a ball that bounces higher off of the pitch and takes longer to reach you.\n",
      "Watch\n",
      "2\n",
      "Shift your weight to the foot closest to the bowler for a full pitch (one that bounces close to you).\n",
      "\n",
      "2\n",
      "Assume the proper stance.\n",
      "If you're right-handed, stand sideways in the crease (the \"safe\" area in front of the wicket) with your left shoulder towards the bowler (who \"pitches\" the ball); left-handed batters do the opposite.  Look straight over your shoulder towards the bowler; do not tilt your head.  Spread your feet about 12 inches (30.5 cm) apart and bend your knees slightly with your weight distributed evenly on both legs.  Rest the toe of the bat on the ground behind your feet near the wicket; your top hand will rest on the inside of the thigh nearest the bowler.\n",
      "[2]\n",
      "X\n",
      "Research source\n",
      "Advertisement\n",
      "Part\n",
      "2\n",
      "Part 2 of 3:\n",
      "Taking the Shot\n",
      "Download Article\n",
      "Watch\n",
      "1\n",
      "Shift your weight to your back foot for longer pitches.\n",
      "Shifting your weight away from the bowler enables you to adjust to a ball that bounces higher off of the pitch and takes longer to reach you.\n",
      "Watch\n",
      "2\n",
      "Shift your weight to the foot closest to the bowler for a full pitch (one that bounces close to you).\n",
      "\n",
      "Question:\n",
      "How to bat in Cricket?\n",
      "\n",
      "Answer:\n",
      "To bat in cricket, you need to move to meet the ball, watch the ball carefully, try to hit the ball before it spins, swing the bat properly, and decide whether to attempt to score a run or continue batting. You also need to assume the proper stance, shift your weight to your back foot for longer pitches, and shift your weight to the foot closest to the bowler for a full pitch. Additionally, you need to research the bowler's style and adjust your batting accordingly.assistant\n",
      "\n",
      "To bat in cricket, you need to:\n",
      "\n",
      "1. Move to meet the ball: Advance forward to hit the ball before it spins.\n",
      "2. Watch the ball carefully: Observe the ball's trajectory and spin to anticipate its behavior.\n",
      "3. Try to hit the ball before it spins: Use your front foot shot to hit the ball before it spins, giving you an advantage.\n",
      "4. Swing the bat properly: Roll your shoulder down, swing the bat backwards in a straight line, and use your top hand for control.\n",
      "5. Decide whether to attempt to score a run or continue batting: Choose when to try to score and when to defend the wicket.\n",
      "6. Assume the proper stance: Stand sideways in the crease with your weight distributed evenly on\n"
     ]
    }
   ],
   "source": [
    "def run_final_rag(user_question):\n",
    "    game, wikihow, pagat = generate_custom_queries(user_question)\n",
    "    print(f\"\\n🔎 Search Queries:\\nGameRules → {game}\\nWikiHow → {wikihow}\\nPagat → {pagat}\")\n",
    "\n",
    "    rules_text = \"\"\n",
    "    \n",
    "    url = search_game_on_gamerules(game)\n",
    "    if url:\n",
    "        print(\"✅ Found on GameRules\")\n",
    "        rules_text += fetch_game_rules_gamerules(url) + \"\\n\\n\"\n",
    "    else:\n",
    "        print(\"❌ Not found on GameRules\")\n",
    "\n",
    "    candidates = get_search_candidates_selenium(wikihow)\n",
    "    if candidates:\n",
    "        best = choose_best_candidate(candidates, wikihow)\n",
    "        rules_text += fetch_article_content(best[\"href\"]) + \"\\n\\n\"\n",
    "        print(\"✅ Found on WikiHow\")\n",
    "    else:\n",
    "        print(\"❌ Not found on WikiHow\")\n",
    "\n",
    "    rules_text += fetch_rules_from_pagat(pagat) + \"\\n\\n\"\n",
    "    \n",
    "    print(\"\\n🔧 Building RAG chain...\")\n",
    "    rag_chain = build_rag_chain(rules_text)\n",
    "\n",
    "    print(\"\\n🤖 Answering the original question...\")\n",
    "    response = rag_chain.run(user_question)\n",
    "    print(f\"\\n📜 Final Answer:\\n{response}\")\n",
    "\n",
    "\n",
    "# Example Run\n",
    "run_final_rag(\"How to bat in Cricket?\")\n"
   ]
  }
 ],
 "metadata": {
  "kaggle": {
   "accelerator": "nvidiaTeslaT4",
   "dataSources": [
    {
     "isSourceIdPinned": true,
     "modelId": 121027,
     "modelInstanceId": 100936,
     "sourceId": 120005,
     "sourceType": "modelInstanceVersion"
    },
    {
     "isSourceIdPinned": true,
     "modelId": 39106,
     "modelInstanceId": 28083,
     "sourceId": 33551,
     "sourceType": "modelInstanceVersion"
    }
   ],
   "dockerImageVersionId": 31011,
   "isGpuEnabled": true,
   "isInternetEnabled": true,
   "language": "python",
   "sourceType": "notebook"
  },
  "kernelspec": {
   "display_name": "Python 3",
   "language": "python",
   "name": "python3"
  },
  "language_info": {
   "codemirror_mode": {
    "name": "ipython",
    "version": 3
   },
   "file_extension": ".py",
   "mimetype": "text/x-python",
   "name": "python",
   "nbconvert_exporter": "python",
   "pygments_lexer": "ipython3",
   "version": "3.11.11"
  }
 },
 "nbformat": 4,
 "nbformat_minor": 4
}
